{
 "cells": [
  {
   "cell_type": "markdown",
   "id": "8e1e9b1e",
   "metadata": {},
   "source": [
    "# ROCK/PAPER/SICCORS\n"
   ]
  },
  {
   "cell_type": "code",
   "execution_count": 39,
   "id": "59c29fd2",
   "metadata": {},
   "outputs": [
    {
     "name": "stdout",
     "output_type": "stream",
     "text": [
      "Player Score: 0\n",
      "Computer Score: 0\n",
      "let start\n",
      "enter('rock','paper','siccors'):rock\n",
      "user choice: rock\n",
      "computer choice: paper\n",
      "computer wins\n",
      "Do you want to play again? (1: yes / 2: no): 1\n",
      "Player Score: 0\n",
      "Computer Score: 1\n",
      "let start\n",
      "enter('rock','paper','siccors'):paper\n",
      "user choice: paper\n",
      "computer choice: rock\n",
      "you win\n",
      "Do you want to play again? (1: yes / 2: no): 1\n",
      "Player Score: 1\n",
      "Computer Score: 1\n",
      "let start\n",
      "enter('rock','paper','siccors'):paper\n",
      "user choice: paper\n",
      "computer choice: rock\n",
      "you win\n",
      "Do you want to play again? (1: yes / 2: no): 1\n",
      "Player Score: 2\n",
      "Computer Score: 1\n",
      "let start\n",
      "enter('rock','paper','siccors'):rock\n",
      "user choice: rock\n",
      "computer choice: rock\n",
      "Its tie\n",
      "Do you want to play again? (1: yes / 2: no): 2\n"
     ]
    }
   ],
   "source": [
    "import random\n",
    "\n",
    "def get_user_choice():\n",
    "    user_choice=input(\"enter('rock','paper','siccors'):\").lower()\n",
    "    if user_choice in ['rock','paper','siccors']:\n",
    "        return user_choice\n",
    "    else:\n",
    "        return \"Invalid name, Correct this\"\n",
    "def get_computer_choice():\n",
    "    return random.choice(['rock','paper','siccors'])\n",
    "def lets_play(user_choice,computer_choice):\n",
    "    if (user_choice=='rock' and computer_choice=='siccors') or (user_choice=='paper' and computer_choice=='rock') or (user_choice=='siccors' and computer_choice=='paper'):\n",
    "        return \"you win\",1\n",
    "    elif user_choice==computer_choice:\n",
    "        return \"Its tie\",0\n",
    "    else:\n",
    "        return \"computer wins\",-1\n",
    "def play():\n",
    "    user_score=0\n",
    "    computer_score=0\n",
    "    while True:\n",
    "        print(\"Player Score:\", user_score)\n",
    "        print(\"Computer Score:\", computer_score)\n",
    "        print(\"let start\")\n",
    "        user_choice=get_user_choice()\n",
    "        computer_choice=get_computer_choice()\n",
    "        print(\"user choice:\",user_choice)\n",
    "        print(\"computer choice:\",computer_choice)\n",
    "        result,points=lets_play(user_choice,computer_choice)\n",
    "        print(result)\n",
    "       \n",
    "        \n",
    "        if points==1:\n",
    "            user_score+=1\n",
    "        elif points==-1:\n",
    "            computer_score+=1\n",
    "            \n",
    "        play_again = input(\"Do you want to play again? (1: yes / 2: no): \")\n",
    "        if play_again != '1':\n",
    "            break\n",
    "\n",
    "play()"
   ]
  },
  {
   "cell_type": "code",
   "execution_count": null,
   "id": "d38515d0",
   "metadata": {},
   "outputs": [],
   "source": []
  }
 ],
 "metadata": {
  "kernelspec": {
   "display_name": "Python 3 (ipykernel)",
   "language": "python",
   "name": "python3"
  },
  "language_info": {
   "codemirror_mode": {
    "name": "ipython",
    "version": 3
   },
   "file_extension": ".py",
   "mimetype": "text/x-python",
   "name": "python",
   "nbconvert_exporter": "python",
   "pygments_lexer": "ipython3",
   "version": "3.9.12"
  }
 },
 "nbformat": 4,
 "nbformat_minor": 5
}
